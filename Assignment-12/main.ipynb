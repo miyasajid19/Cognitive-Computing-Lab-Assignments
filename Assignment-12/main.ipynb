{
 "cells": [
  {
   "cell_type": "markdown",
   "id": "8d160bc8",
   "metadata": {},
   "source": [
    "# HealthBot: A Simple NLP-Based Healthcare Chatbot\n"
   ]
  },
  {
   "cell_type": "code",
   "execution_count": 1,
   "id": "efce1622",
   "metadata": {},
   "outputs": [],
   "source": [
    "\n",
    "import re\n",
    "from sklearn.feature_extraction.text import TfidfVectorizer\n",
    "from sklearn.metrics.pairwise import cosine_similarity\n"
   ]
  },
  {
   "cell_type": "code",
   "execution_count": 2,
   "id": "f990ad3e",
   "metadata": {},
   "outputs": [],
   "source": [
    "\n",
    "# Define a set of predefined questions and responses\n",
    "faq_data = {\n",
    "    \"hi\": \"Hello! I am HealthBot. How can I assist you today?\",\n",
    "    \"hello\": \"Hi! Do you have a health-related question?\",\n",
    "    \"i have a headache\": \"You should rest, stay hydrated, and take a mild pain reliever if needed.\",\n",
    "    \"what should i do if i have a fever\": \"Drink plenty of fluids and rest. If the fever persists, please consult a doctor.\",\n",
    "    \"i feel dizzy\": \"Sit down, breathe deeply, and drink water. If it continues, seek medical help.\",\n",
    "    \"what should i eat for a cold\": \"Warm fluids, soups, citrus fruits, and light meals help during a cold.\",\n",
    "    \"how to stay healthy\": \"Eat balanced meals, exercise regularly, stay hydrated, and get enough sleep.\",\n",
    "    \"what should i do in case of a cut\": \"Clean the wound with water, apply antiseptic, and cover it with a clean bandage.\",\n",
    "    \"how much water should i drink daily\": \"Generally, 2 to 3 liters per day is recommended, but it varies based on your activity.\",\n",
    "    \"thank you\": \"You’re welcome! Take care.\",\n",
    "    \"bye\": \"Goodbye! Stay healthy.\"\n",
    "}\n"
   ]
  },
  {
   "cell_type": "code",
   "execution_count": 3,
   "id": "d11ce3c4",
   "metadata": {},
   "outputs": [],
   "source": [
    "\n",
    "# Preprocess input\n",
    "questions = list(faq_data.keys())\n",
    "responses = list(faq_data.values())\n",
    "vectorizer = TfidfVectorizer()\n",
    "X = vectorizer.fit_transform(questions)\n",
    "\n"
   ]
  },
  {
   "cell_type": "code",
   "execution_count": 4,
   "id": "597c0072",
   "metadata": {},
   "outputs": [],
   "source": [
    "def get_response(user_input):\n",
    "    user_input = re.sub(r\"[^a-zA-Z0-9 ]\", \"\", user_input.lower())\n",
    "    user_vec = vectorizer.transform([user_input])\n",
    "    similarity = cosine_similarity(user_vec, X)\n",
    "    idx = similarity.argmax()\n",
    "    if similarity[0][idx] > 0.3:\n",
    "        return responses[idx]\n",
    "    else:\n",
    "        return \"I'm sorry, I can help with simple health questions. Please try asking differently.\"\n",
    "\n"
   ]
  },
  {
   "cell_type": "code",
   "execution_count": 10,
   "id": "10636243",
   "metadata": {},
   "outputs": [],
   "source": [
    "def healthbot():\n",
    "    user_input = input(\"You: \").strip()\n",
    "    print(\"user : \", user_input)\n",
    "    if user_input.lower() == 'bye':\n",
    "        print(\"HealthBot: Goodbye! Stay healthy.\")\n",
    "    response = get_response(user_input)\n",
    "    print(f\"HealthBot: {response}\")\n",
    "\n"
   ]
  },
  {
   "cell_type": "code",
   "execution_count": 11,
   "id": "c920dc78",
   "metadata": {},
   "outputs": [
    {
     "name": "stdout",
     "output_type": "stream",
     "text": [
      "user :  hi\n",
      "HealthBot: Hello! I am HealthBot. How can I assist you today?\n"
     ]
    }
   ],
   "source": [
    "healthbot()"
   ]
  },
  {
   "cell_type": "code",
   "execution_count": 12,
   "id": "7b5dd06e",
   "metadata": {},
   "outputs": [
    {
     "name": "stdout",
     "output_type": "stream",
     "text": [
      "user :  dizzy\n",
      "HealthBot: Sit down, breathe deeply, and drink water. If it continues, seek medical help.\n"
     ]
    }
   ],
   "source": [
    "healthbot()"
   ]
  },
  {
   "cell_type": "code",
   "execution_count": 13,
   "id": "f3becebe",
   "metadata": {},
   "outputs": [
    {
     "name": "stdout",
     "output_type": "stream",
     "text": [
      "user :  obito uchiha is ninja\n",
      "HealthBot: I'm sorry, I can help with simple health questions. Please try asking differently.\n"
     ]
    }
   ],
   "source": [
    "healthbot()"
   ]
  },
  {
   "cell_type": "code",
   "execution_count": 14,
   "id": "58a27c25",
   "metadata": {},
   "outputs": [
    {
     "name": "stdout",
     "output_type": "stream",
     "text": [
      "user :  obito uchiha is ninja and he had done intense training what should he do now\n",
      "HealthBot: Drink plenty of fluids and rest. If the fever persists, please consult a doctor.\n"
     ]
    }
   ],
   "source": [
    "healthbot()\n"
   ]
  },
  {
   "cell_type": "code",
   "execution_count": 15,
   "id": "1e7b2332",
   "metadata": {},
   "outputs": [
    {
     "name": "stdout",
     "output_type": "stream",
     "text": [
      "user :  obito uchiha is ninja and he had done intense training what should he do now and feeling tired and dizzy\n",
      "HealthBot: Drink plenty of fluids and rest. If the fever persists, please consult a doctor.\n"
     ]
    }
   ],
   "source": [
    "healthbot()"
   ]
  },
  {
   "cell_type": "code",
   "execution_count": null,
   "id": "13178a9b",
   "metadata": {},
   "outputs": [],
   "source": []
  }
 ],
 "metadata": {
  "kernelspec": {
   "display_name": "Python 3",
   "language": "python",
   "name": "python3"
  },
  "language_info": {
   "codemirror_mode": {
    "name": "ipython",
    "version": 3
   },
   "file_extension": ".py",
   "mimetype": "text/x-python",
   "name": "python",
   "nbconvert_exporter": "python",
   "pygments_lexer": "ipython3",
   "version": "3.9.0"
  }
 },
 "nbformat": 4,
 "nbformat_minor": 5
}
