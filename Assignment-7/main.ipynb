{
 "cells": [
  {
   "cell_type": "code",
   "execution_count": 2,
   "metadata": {},
   "outputs": [],
   "source": [
    "import numpy as np\n",
    "import pandas as pd\n",
    "import matplotlib.pyplot as plt\n",
    "import seaborn as sns"
   ]
  },
  {
   "cell_type": "markdown",
   "metadata": {},
   "source": [
    "# Part I: Randomized Sales Data Generation (NumPy)\n",
    "\n",
    "### 1. Initialize Random Seed\n",
    "- Use the `roll_no` variable as the random seed to ensure reproducibility.\n",
    "\n",
    "### 2. Generate Sales Data\n",
    "- Create a NumPy array of random sales data for 12 months with the shape `(12, 4)`.\n",
    "- Each column represents a product category:\n",
    "    - **Electronics**\n",
    "    - **Clothing**\n",
    "    - **Home & Kitchen**\n",
    "    - **Sports**\n",
    "- Sales values should range between **1000** and **5000** units per month.\n",
    "- The randomization should be controlled using the initialized seed.\n",
    "\n",
    "### 3. Convert to DataFrame\n",
    "- Convert the generated NumPy array into a Pandas DataFrame with:\n",
    "    - **Columns**: Electronics, Clothing, Home & Kitchen, Sports\n",
    "    - **Index**: Months from **Jan** to **Dec**"
   ]
  },
  {
   "cell_type": "code",
   "execution_count": 3,
   "metadata": {},
   "outputs": [],
   "source": [
    "roll_no=102367013\n",
    "np.random.seed(roll_no)"
   ]
  },
  {
   "cell_type": "code",
   "execution_count": null,
   "metadata": {},
   "outputs": [],
   "source": [
    "data = np.random.randint(1000, 5000, size=(12, 4))\n",
    "columns=['Electronics','Clothing','Home & Kitchen','Sports']\n",
    "index=['Jan','Feb','Mar','Apr','May','Jun','Jul','Aug','Sep','Oct','Nov','Dec']"
   ]
  },
  {
   "cell_type": "code",
   "execution_count": 5,
   "metadata": {},
   "outputs": [
    {
     "data": {
      "text/html": [
       "<div>\n",
       "<style scoped>\n",
       "    .dataframe tbody tr th:only-of-type {\n",
       "        vertical-align: middle;\n",
       "    }\n",
       "\n",
       "    .dataframe tbody tr th {\n",
       "        vertical-align: top;\n",
       "    }\n",
       "\n",
       "    .dataframe thead th {\n",
       "        text-align: right;\n",
       "    }\n",
       "</style>\n",
       "<table border=\"1\" class=\"dataframe\">\n",
       "  <thead>\n",
       "    <tr style=\"text-align: right;\">\n",
       "      <th></th>\n",
       "      <th>Electronics</th>\n",
       "      <th>Clothing</th>\n",
       "      <th>Home &amp; Kitchen</th>\n",
       "      <th>Sports</th>\n",
       "    </tr>\n",
       "  </thead>\n",
       "  <tbody>\n",
       "    <tr>\n",
       "      <th>Jan</th>\n",
       "      <td>1291</td>\n",
       "      <td>2496</td>\n",
       "      <td>2042</td>\n",
       "      <td>4239</td>\n",
       "    </tr>\n",
       "    <tr>\n",
       "      <th>Feb</th>\n",
       "      <td>1016</td>\n",
       "      <td>2540</td>\n",
       "      <td>1742</td>\n",
       "      <td>3523</td>\n",
       "    </tr>\n",
       "    <tr>\n",
       "      <th>Mar</th>\n",
       "      <td>4567</td>\n",
       "      <td>4084</td>\n",
       "      <td>1942</td>\n",
       "      <td>1543</td>\n",
       "    </tr>\n",
       "    <tr>\n",
       "      <th>Apr</th>\n",
       "      <td>1404</td>\n",
       "      <td>4805</td>\n",
       "      <td>4845</td>\n",
       "      <td>2732</td>\n",
       "    </tr>\n",
       "    <tr>\n",
       "      <th>May</th>\n",
       "      <td>2083</td>\n",
       "      <td>1858</td>\n",
       "      <td>2351</td>\n",
       "      <td>1838</td>\n",
       "    </tr>\n",
       "    <tr>\n",
       "      <th>Jun</th>\n",
       "      <td>2079</td>\n",
       "      <td>1485</td>\n",
       "      <td>4360</td>\n",
       "      <td>2484</td>\n",
       "    </tr>\n",
       "    <tr>\n",
       "      <th>Jul</th>\n",
       "      <td>4872</td>\n",
       "      <td>4967</td>\n",
       "      <td>4225</td>\n",
       "      <td>4634</td>\n",
       "    </tr>\n",
       "    <tr>\n",
       "      <th>Aug</th>\n",
       "      <td>4192</td>\n",
       "      <td>1093</td>\n",
       "      <td>3518</td>\n",
       "      <td>1493</td>\n",
       "    </tr>\n",
       "    <tr>\n",
       "      <th>Sep</th>\n",
       "      <td>2670</td>\n",
       "      <td>3400</td>\n",
       "      <td>3833</td>\n",
       "      <td>1356</td>\n",
       "    </tr>\n",
       "    <tr>\n",
       "      <th>Oct</th>\n",
       "      <td>3384</td>\n",
       "      <td>2890</td>\n",
       "      <td>1773</td>\n",
       "      <td>1350</td>\n",
       "    </tr>\n",
       "    <tr>\n",
       "      <th>Nov</th>\n",
       "      <td>4859</td>\n",
       "      <td>4695</td>\n",
       "      <td>4556</td>\n",
       "      <td>1307</td>\n",
       "    </tr>\n",
       "    <tr>\n",
       "      <th>Dec</th>\n",
       "      <td>3619</td>\n",
       "      <td>1874</td>\n",
       "      <td>4928</td>\n",
       "      <td>1010</td>\n",
       "    </tr>\n",
       "  </tbody>\n",
       "</table>\n",
       "</div>"
      ],
      "text/plain": [
       "     Electronics  Clothing  Home & Kitchen  Sports\n",
       "Jan         1291      2496            2042    4239\n",
       "Feb         1016      2540            1742    3523\n",
       "Mar         4567      4084            1942    1543\n",
       "Apr         1404      4805            4845    2732\n",
       "May         2083      1858            2351    1838\n",
       "Jun         2079      1485            4360    2484\n",
       "Jul         4872      4967            4225    4634\n",
       "Aug         4192      1093            3518    1493\n",
       "Sep         2670      3400            3833    1356\n",
       "Oct         3384      2890            1773    1350\n",
       "Nov         4859      4695            4556    1307\n",
       "Dec         3619      1874            4928    1010"
      ]
     },
     "execution_count": 5,
     "metadata": {},
     "output_type": "execute_result"
    }
   ],
   "source": [
    "df=pd.DataFrame(data,columns=columns,index=index)\n",
    "df"
   ]
  },
  {
   "cell_type": "markdown",
   "metadata": {},
   "source": [
    "# Part II: Data Manipulation and Analysis (Pandas)\n",
    "\n",
    "### 1. Display the First 5 Rows and Summary Statistics of the DataFrame\n",
    "- Use the `head()` method to display the first 5 rows of the DataFrame.\n",
    "- Use the `describe()` method to generate summary statistics.\n",
    "\n",
    "### 2. Calculate Total Sales\n",
    "- **Per Category**: Sum the sales for each category across all months.\n",
    "- **Per Month**: Sum the sales for all categories for each month.\n",
    "\n",
    "### 3. Calculate Average Sales Growth\n",
    "- Compute the average percentage growth in sales between consecutive months for each category.\n",
    "\n",
    "### 4. Add New Columns\n",
    "- **Total Sales**: Add a column that represents the sum of all categories for each month.\n",
    "- **Growth Rate**: Add a column that calculates the percentage change in Total Sales from the previous month.\n",
    "\n",
    "### 5. Apply a Randomized Discount\n",
    "- **Condition**: Check if the roll number is even or odd.\n",
    "    - If **even**, apply a 10% discount to the Electronics category.\n",
    "    - If **odd**, apply a 15% discount to the Clothing category.\n",
    "- Update the DataFrame to reflect the discounted values."
   ]
  },
  {
   "cell_type": "code",
   "execution_count": 6,
   "metadata": {},
   "outputs": [
    {
     "data": {
      "text/html": [
       "<div>\n",
       "<style scoped>\n",
       "    .dataframe tbody tr th:only-of-type {\n",
       "        vertical-align: middle;\n",
       "    }\n",
       "\n",
       "    .dataframe tbody tr th {\n",
       "        vertical-align: top;\n",
       "    }\n",
       "\n",
       "    .dataframe thead th {\n",
       "        text-align: right;\n",
       "    }\n",
       "</style>\n",
       "<table border=\"1\" class=\"dataframe\">\n",
       "  <thead>\n",
       "    <tr style=\"text-align: right;\">\n",
       "      <th></th>\n",
       "      <th>Electronics</th>\n",
       "      <th>Clothing</th>\n",
       "      <th>Home &amp; Kitchen</th>\n",
       "      <th>Sports</th>\n",
       "    </tr>\n",
       "  </thead>\n",
       "  <tbody>\n",
       "    <tr>\n",
       "      <th>Jan</th>\n",
       "      <td>1291</td>\n",
       "      <td>2496</td>\n",
       "      <td>2042</td>\n",
       "      <td>4239</td>\n",
       "    </tr>\n",
       "    <tr>\n",
       "      <th>Feb</th>\n",
       "      <td>1016</td>\n",
       "      <td>2540</td>\n",
       "      <td>1742</td>\n",
       "      <td>3523</td>\n",
       "    </tr>\n",
       "    <tr>\n",
       "      <th>Mar</th>\n",
       "      <td>4567</td>\n",
       "      <td>4084</td>\n",
       "      <td>1942</td>\n",
       "      <td>1543</td>\n",
       "    </tr>\n",
       "    <tr>\n",
       "      <th>Apr</th>\n",
       "      <td>1404</td>\n",
       "      <td>4805</td>\n",
       "      <td>4845</td>\n",
       "      <td>2732</td>\n",
       "    </tr>\n",
       "    <tr>\n",
       "      <th>May</th>\n",
       "      <td>2083</td>\n",
       "      <td>1858</td>\n",
       "      <td>2351</td>\n",
       "      <td>1838</td>\n",
       "    </tr>\n",
       "  </tbody>\n",
       "</table>\n",
       "</div>"
      ],
      "text/plain": [
       "     Electronics  Clothing  Home & Kitchen  Sports\n",
       "Jan         1291      2496            2042    4239\n",
       "Feb         1016      2540            1742    3523\n",
       "Mar         4567      4084            1942    1543\n",
       "Apr         1404      4805            4845    2732\n",
       "May         2083      1858            2351    1838"
      ]
     },
     "execution_count": 6,
     "metadata": {},
     "output_type": "execute_result"
    }
   ],
   "source": [
    "df.head()"
   ]
  },
  {
   "cell_type": "code",
   "execution_count": 7,
   "metadata": {},
   "outputs": [
    {
     "data": {
      "text/html": [
       "<div>\n",
       "<style scoped>\n",
       "    .dataframe tbody tr th:only-of-type {\n",
       "        vertical-align: middle;\n",
       "    }\n",
       "\n",
       "    .dataframe tbody tr th {\n",
       "        vertical-align: top;\n",
       "    }\n",
       "\n",
       "    .dataframe thead th {\n",
       "        text-align: right;\n",
       "    }\n",
       "</style>\n",
       "<table border=\"1\" class=\"dataframe\">\n",
       "  <thead>\n",
       "    <tr style=\"text-align: right;\">\n",
       "      <th></th>\n",
       "      <th>Electronics</th>\n",
       "      <th>Clothing</th>\n",
       "      <th>Home &amp; Kitchen</th>\n",
       "      <th>Sports</th>\n",
       "    </tr>\n",
       "  </thead>\n",
       "  <tbody>\n",
       "    <tr>\n",
       "      <th>count</th>\n",
       "      <td>12.000000</td>\n",
       "      <td>12.000000</td>\n",
       "      <td>12.000000</td>\n",
       "      <td>12.000000</td>\n",
       "    </tr>\n",
       "    <tr>\n",
       "      <th>mean</th>\n",
       "      <td>3003.000000</td>\n",
       "      <td>3015.583333</td>\n",
       "      <td>3342.916667</td>\n",
       "      <td>2292.416667</td>\n",
       "    </tr>\n",
       "    <tr>\n",
       "      <th>std</th>\n",
       "      <td>1432.395006</td>\n",
       "      <td>1358.940460</td>\n",
       "      <td>1278.852572</td>\n",
       "      <td>1235.987751</td>\n",
       "    </tr>\n",
       "    <tr>\n",
       "      <th>min</th>\n",
       "      <td>1016.000000</td>\n",
       "      <td>1093.000000</td>\n",
       "      <td>1742.000000</td>\n",
       "      <td>1010.000000</td>\n",
       "    </tr>\n",
       "    <tr>\n",
       "      <th>25%</th>\n",
       "      <td>1910.250000</td>\n",
       "      <td>1870.000000</td>\n",
       "      <td>2017.000000</td>\n",
       "      <td>1354.500000</td>\n",
       "    </tr>\n",
       "    <tr>\n",
       "      <th>50%</th>\n",
       "      <td>3027.000000</td>\n",
       "      <td>2715.000000</td>\n",
       "      <td>3675.500000</td>\n",
       "      <td>1690.500000</td>\n",
       "    </tr>\n",
       "    <tr>\n",
       "      <th>75%</th>\n",
       "      <td>4285.750000</td>\n",
       "      <td>4236.750000</td>\n",
       "      <td>4409.000000</td>\n",
       "      <td>2929.750000</td>\n",
       "    </tr>\n",
       "    <tr>\n",
       "      <th>max</th>\n",
       "      <td>4872.000000</td>\n",
       "      <td>4967.000000</td>\n",
       "      <td>4928.000000</td>\n",
       "      <td>4634.000000</td>\n",
       "    </tr>\n",
       "  </tbody>\n",
       "</table>\n",
       "</div>"
      ],
      "text/plain": [
       "       Electronics     Clothing  Home & Kitchen       Sports\n",
       "count    12.000000    12.000000       12.000000    12.000000\n",
       "mean   3003.000000  3015.583333     3342.916667  2292.416667\n",
       "std    1432.395006  1358.940460     1278.852572  1235.987751\n",
       "min    1016.000000  1093.000000     1742.000000  1010.000000\n",
       "25%    1910.250000  1870.000000     2017.000000  1354.500000\n",
       "50%    3027.000000  2715.000000     3675.500000  1690.500000\n",
       "75%    4285.750000  4236.750000     4409.000000  2929.750000\n",
       "max    4872.000000  4967.000000     4928.000000  4634.000000"
      ]
     },
     "execution_count": 7,
     "metadata": {},
     "output_type": "execute_result"
    }
   ],
   "source": [
    "df.describe()"
   ]
  },
  {
   "cell_type": "code",
   "execution_count": 8,
   "metadata": {},
   "outputs": [
    {
     "data": {
      "text/plain": [
       "Electronics       36036\n",
       "Clothing          36187\n",
       "Home & Kitchen    40115\n",
       "Sports            27509\n",
       "dtype: int64"
      ]
     },
     "execution_count": 8,
     "metadata": {},
     "output_type": "execute_result"
    }
   ],
   "source": [
    "#total sales in each category\n",
    "df.sum(axis=0)"
   ]
  },
  {
   "cell_type": "code",
   "execution_count": 9,
   "metadata": {},
   "outputs": [
    {
     "data": {
      "text/plain": [
       "Jan    10068\n",
       "Feb     8821\n",
       "Mar    12136\n",
       "Apr    13786\n",
       "May     8130\n",
       "Jun    10408\n",
       "Jul    18698\n",
       "Aug    10296\n",
       "Sep    11259\n",
       "Oct     9397\n",
       "Nov    15417\n",
       "Dec    11431\n",
       "dtype: int64"
      ]
     },
     "execution_count": 9,
     "metadata": {},
     "output_type": "execute_result"
    }
   ],
   "source": [
    "#total sales in each month\n",
    "df.sum(axis=1)"
   ]
  },
  {
   "cell_type": "code",
   "execution_count": null,
   "metadata": {},
   "outputs": [
    {
     "data": {
      "text/plain": [
       "Electronics             NaN\n",
       "Clothing          27.066594\n",
       "Home & Kitchen    38.327749\n",
       "Sports           -17.196281\n",
       "dtype: float64"
      ]
     },
     "execution_count": 10,
     "metadata": {},
     "output_type": "execute_result"
    }
   ],
   "source": [
    "# Average sales growth between consecutive months\n",
    "average_growth = df.pct_change(axis=1).mean() * 100\n",
    "average_growth"
   ]
  },
  {
   "cell_type": "code",
   "execution_count": 11,
   "metadata": {},
   "outputs": [],
   "source": [
    "df['Total Sales']=df.sum(axis=1)\n",
    "df['Growth Rate']=df['Total Sales'].pct_change() * 100"
   ]
  },
  {
   "cell_type": "code",
   "execution_count": 12,
   "metadata": {},
   "outputs": [
    {
     "data": {
      "text/html": [
       "<div>\n",
       "<style scoped>\n",
       "    .dataframe tbody tr th:only-of-type {\n",
       "        vertical-align: middle;\n",
       "    }\n",
       "\n",
       "    .dataframe tbody tr th {\n",
       "        vertical-align: top;\n",
       "    }\n",
       "\n",
       "    .dataframe thead th {\n",
       "        text-align: right;\n",
       "    }\n",
       "</style>\n",
       "<table border=\"1\" class=\"dataframe\">\n",
       "  <thead>\n",
       "    <tr style=\"text-align: right;\">\n",
       "      <th></th>\n",
       "      <th>Electronics</th>\n",
       "      <th>Clothing</th>\n",
       "      <th>Home &amp; Kitchen</th>\n",
       "      <th>Sports</th>\n",
       "      <th>Total Sales</th>\n",
       "      <th>Growth Rate</th>\n",
       "    </tr>\n",
       "  </thead>\n",
       "  <tbody>\n",
       "    <tr>\n",
       "      <th>Jan</th>\n",
       "      <td>1291</td>\n",
       "      <td>2496</td>\n",
       "      <td>2042</td>\n",
       "      <td>4239</td>\n",
       "      <td>10068</td>\n",
       "      <td>NaN</td>\n",
       "    </tr>\n",
       "    <tr>\n",
       "      <th>Feb</th>\n",
       "      <td>1016</td>\n",
       "      <td>2540</td>\n",
       "      <td>1742</td>\n",
       "      <td>3523</td>\n",
       "      <td>8821</td>\n",
       "      <td>-12.385777</td>\n",
       "    </tr>\n",
       "    <tr>\n",
       "      <th>Mar</th>\n",
       "      <td>4567</td>\n",
       "      <td>4084</td>\n",
       "      <td>1942</td>\n",
       "      <td>1543</td>\n",
       "      <td>12136</td>\n",
       "      <td>37.580773</td>\n",
       "    </tr>\n",
       "    <tr>\n",
       "      <th>Apr</th>\n",
       "      <td>1404</td>\n",
       "      <td>4805</td>\n",
       "      <td>4845</td>\n",
       "      <td>2732</td>\n",
       "      <td>13786</td>\n",
       "      <td>13.595913</td>\n",
       "    </tr>\n",
       "    <tr>\n",
       "      <th>May</th>\n",
       "      <td>2083</td>\n",
       "      <td>1858</td>\n",
       "      <td>2351</td>\n",
       "      <td>1838</td>\n",
       "      <td>8130</td>\n",
       "      <td>-41.027129</td>\n",
       "    </tr>\n",
       "    <tr>\n",
       "      <th>Jun</th>\n",
       "      <td>2079</td>\n",
       "      <td>1485</td>\n",
       "      <td>4360</td>\n",
       "      <td>2484</td>\n",
       "      <td>10408</td>\n",
       "      <td>28.019680</td>\n",
       "    </tr>\n",
       "    <tr>\n",
       "      <th>Jul</th>\n",
       "      <td>4872</td>\n",
       "      <td>4967</td>\n",
       "      <td>4225</td>\n",
       "      <td>4634</td>\n",
       "      <td>18698</td>\n",
       "      <td>79.650269</td>\n",
       "    </tr>\n",
       "    <tr>\n",
       "      <th>Aug</th>\n",
       "      <td>4192</td>\n",
       "      <td>1093</td>\n",
       "      <td>3518</td>\n",
       "      <td>1493</td>\n",
       "      <td>10296</td>\n",
       "      <td>-44.935287</td>\n",
       "    </tr>\n",
       "    <tr>\n",
       "      <th>Sep</th>\n",
       "      <td>2670</td>\n",
       "      <td>3400</td>\n",
       "      <td>3833</td>\n",
       "      <td>1356</td>\n",
       "      <td>11259</td>\n",
       "      <td>9.353147</td>\n",
       "    </tr>\n",
       "    <tr>\n",
       "      <th>Oct</th>\n",
       "      <td>3384</td>\n",
       "      <td>2890</td>\n",
       "      <td>1773</td>\n",
       "      <td>1350</td>\n",
       "      <td>9397</td>\n",
       "      <td>-16.537881</td>\n",
       "    </tr>\n",
       "    <tr>\n",
       "      <th>Nov</th>\n",
       "      <td>4859</td>\n",
       "      <td>4695</td>\n",
       "      <td>4556</td>\n",
       "      <td>1307</td>\n",
       "      <td>15417</td>\n",
       "      <td>64.062999</td>\n",
       "    </tr>\n",
       "    <tr>\n",
       "      <th>Dec</th>\n",
       "      <td>3619</td>\n",
       "      <td>1874</td>\n",
       "      <td>4928</td>\n",
       "      <td>1010</td>\n",
       "      <td>11431</td>\n",
       "      <td>-25.854576</td>\n",
       "    </tr>\n",
       "  </tbody>\n",
       "</table>\n",
       "</div>"
      ],
      "text/plain": [
       "     Electronics  Clothing  Home & Kitchen  Sports  Total Sales  Growth Rate\n",
       "Jan         1291      2496            2042    4239        10068          NaN\n",
       "Feb         1016      2540            1742    3523         8821   -12.385777\n",
       "Mar         4567      4084            1942    1543        12136    37.580773\n",
       "Apr         1404      4805            4845    2732        13786    13.595913\n",
       "May         2083      1858            2351    1838         8130   -41.027129\n",
       "Jun         2079      1485            4360    2484        10408    28.019680\n",
       "Jul         4872      4967            4225    4634        18698    79.650269\n",
       "Aug         4192      1093            3518    1493        10296   -44.935287\n",
       "Sep         2670      3400            3833    1356        11259     9.353147\n",
       "Oct         3384      2890            1773    1350         9397   -16.537881\n",
       "Nov         4859      4695            4556    1307        15417    64.062999\n",
       "Dec         3619      1874            4928    1010        11431   -25.854576"
      ]
     },
     "execution_count": 12,
     "metadata": {},
     "output_type": "execute_result"
    }
   ],
   "source": [
    "df"
   ]
  },
  {
   "cell_type": "code",
   "execution_count": 13,
   "metadata": {},
   "outputs": [],
   "source": [
    "df['Discount'] = df.apply(lambda x: x['Total Sales'] * 0.1 if roll_no % 2 == 0 else x['Total Sales'] * 0.15, axis=1)"
   ]
  },
  {
   "cell_type": "code",
   "execution_count": 14,
   "metadata": {},
   "outputs": [
    {
     "data": {
      "text/html": [
       "<div>\n",
       "<style scoped>\n",
       "    .dataframe tbody tr th:only-of-type {\n",
       "        vertical-align: middle;\n",
       "    }\n",
       "\n",
       "    .dataframe tbody tr th {\n",
       "        vertical-align: top;\n",
       "    }\n",
       "\n",
       "    .dataframe thead th {\n",
       "        text-align: right;\n",
       "    }\n",
       "</style>\n",
       "<table border=\"1\" class=\"dataframe\">\n",
       "  <thead>\n",
       "    <tr style=\"text-align: right;\">\n",
       "      <th></th>\n",
       "      <th>Electronics</th>\n",
       "      <th>Clothing</th>\n",
       "      <th>Home &amp; Kitchen</th>\n",
       "      <th>Sports</th>\n",
       "      <th>Total Sales</th>\n",
       "      <th>Growth Rate</th>\n",
       "      <th>Discount</th>\n",
       "    </tr>\n",
       "  </thead>\n",
       "  <tbody>\n",
       "    <tr>\n",
       "      <th>Jan</th>\n",
       "      <td>1291</td>\n",
       "      <td>2496</td>\n",
       "      <td>2042</td>\n",
       "      <td>4239</td>\n",
       "      <td>10068</td>\n",
       "      <td>NaN</td>\n",
       "      <td>1510.20</td>\n",
       "    </tr>\n",
       "    <tr>\n",
       "      <th>Feb</th>\n",
       "      <td>1016</td>\n",
       "      <td>2540</td>\n",
       "      <td>1742</td>\n",
       "      <td>3523</td>\n",
       "      <td>8821</td>\n",
       "      <td>-12.385777</td>\n",
       "      <td>1323.15</td>\n",
       "    </tr>\n",
       "    <tr>\n",
       "      <th>Mar</th>\n",
       "      <td>4567</td>\n",
       "      <td>4084</td>\n",
       "      <td>1942</td>\n",
       "      <td>1543</td>\n",
       "      <td>12136</td>\n",
       "      <td>37.580773</td>\n",
       "      <td>1820.40</td>\n",
       "    </tr>\n",
       "    <tr>\n",
       "      <th>Apr</th>\n",
       "      <td>1404</td>\n",
       "      <td>4805</td>\n",
       "      <td>4845</td>\n",
       "      <td>2732</td>\n",
       "      <td>13786</td>\n",
       "      <td>13.595913</td>\n",
       "      <td>2067.90</td>\n",
       "    </tr>\n",
       "    <tr>\n",
       "      <th>May</th>\n",
       "      <td>2083</td>\n",
       "      <td>1858</td>\n",
       "      <td>2351</td>\n",
       "      <td>1838</td>\n",
       "      <td>8130</td>\n",
       "      <td>-41.027129</td>\n",
       "      <td>1219.50</td>\n",
       "    </tr>\n",
       "    <tr>\n",
       "      <th>Jun</th>\n",
       "      <td>2079</td>\n",
       "      <td>1485</td>\n",
       "      <td>4360</td>\n",
       "      <td>2484</td>\n",
       "      <td>10408</td>\n",
       "      <td>28.019680</td>\n",
       "      <td>1561.20</td>\n",
       "    </tr>\n",
       "    <tr>\n",
       "      <th>Jul</th>\n",
       "      <td>4872</td>\n",
       "      <td>4967</td>\n",
       "      <td>4225</td>\n",
       "      <td>4634</td>\n",
       "      <td>18698</td>\n",
       "      <td>79.650269</td>\n",
       "      <td>2804.70</td>\n",
       "    </tr>\n",
       "    <tr>\n",
       "      <th>Aug</th>\n",
       "      <td>4192</td>\n",
       "      <td>1093</td>\n",
       "      <td>3518</td>\n",
       "      <td>1493</td>\n",
       "      <td>10296</td>\n",
       "      <td>-44.935287</td>\n",
       "      <td>1544.40</td>\n",
       "    </tr>\n",
       "    <tr>\n",
       "      <th>Sep</th>\n",
       "      <td>2670</td>\n",
       "      <td>3400</td>\n",
       "      <td>3833</td>\n",
       "      <td>1356</td>\n",
       "      <td>11259</td>\n",
       "      <td>9.353147</td>\n",
       "      <td>1688.85</td>\n",
       "    </tr>\n",
       "    <tr>\n",
       "      <th>Oct</th>\n",
       "      <td>3384</td>\n",
       "      <td>2890</td>\n",
       "      <td>1773</td>\n",
       "      <td>1350</td>\n",
       "      <td>9397</td>\n",
       "      <td>-16.537881</td>\n",
       "      <td>1409.55</td>\n",
       "    </tr>\n",
       "    <tr>\n",
       "      <th>Nov</th>\n",
       "      <td>4859</td>\n",
       "      <td>4695</td>\n",
       "      <td>4556</td>\n",
       "      <td>1307</td>\n",
       "      <td>15417</td>\n",
       "      <td>64.062999</td>\n",
       "      <td>2312.55</td>\n",
       "    </tr>\n",
       "    <tr>\n",
       "      <th>Dec</th>\n",
       "      <td>3619</td>\n",
       "      <td>1874</td>\n",
       "      <td>4928</td>\n",
       "      <td>1010</td>\n",
       "      <td>11431</td>\n",
       "      <td>-25.854576</td>\n",
       "      <td>1714.65</td>\n",
       "    </tr>\n",
       "  </tbody>\n",
       "</table>\n",
       "</div>"
      ],
      "text/plain": [
       "     Electronics  Clothing  Home & Kitchen  Sports  Total Sales  Growth Rate  \\\n",
       "Jan         1291      2496            2042    4239        10068          NaN   \n",
       "Feb         1016      2540            1742    3523         8821   -12.385777   \n",
       "Mar         4567      4084            1942    1543        12136    37.580773   \n",
       "Apr         1404      4805            4845    2732        13786    13.595913   \n",
       "May         2083      1858            2351    1838         8130   -41.027129   \n",
       "Jun         2079      1485            4360    2484        10408    28.019680   \n",
       "Jul         4872      4967            4225    4634        18698    79.650269   \n",
       "Aug         4192      1093            3518    1493        10296   -44.935287   \n",
       "Sep         2670      3400            3833    1356        11259     9.353147   \n",
       "Oct         3384      2890            1773    1350         9397   -16.537881   \n",
       "Nov         4859      4695            4556    1307        15417    64.062999   \n",
       "Dec         3619      1874            4928    1010        11431   -25.854576   \n",
       "\n",
       "     Discount  \n",
       "Jan   1510.20  \n",
       "Feb   1323.15  \n",
       "Mar   1820.40  \n",
       "Apr   2067.90  \n",
       "May   1219.50  \n",
       "Jun   1561.20  \n",
       "Jul   2804.70  \n",
       "Aug   1544.40  \n",
       "Sep   1688.85  \n",
       "Oct   1409.55  \n",
       "Nov   2312.55  \n",
       "Dec   1714.65  "
      ]
     },
     "execution_count": 14,
     "metadata": {},
     "output_type": "execute_result"
    }
   ],
   "source": [
    "df"
   ]
  },
  {
   "cell_type": "markdown",
   "metadata": {},
   "source": [
    "# Part III: Visualizations (Matplotlib and Seaborn)\n",
    "\n",
    "### 1. Plot Monthly Sales Trends\n",
    "- Use line plots to visualize the monthly sales trends for each product category:\n",
    "    - **Electronics**\n",
    "    - **Clothing**\n",
    "    - **Home & Kitchen**\n",
    "    - **Sports**\n",
    "- The x-axis should represent the months, and the y-axis should represent the sales values.\n",
    "\n",
    "### 2. Sales Distribution Analysis\n",
    "- Create box plots to show the sales distribution for each product category:\n",
    "    - Highlight the spread, median, and potential outliers in the sales data.\n",
    "- Use Seaborn's `boxplot()` function for better aesthetics."
   ]
  },
  {
   "cell_type": "code",
   "execution_count": 15,
   "metadata": {},
   "outputs": [
    {
     "data": {
      "image/png": "[encoded data removed]",
      "text/plain": [
       "<Figure size 1200x600 with 1 Axes>"
      ]
     },
     "metadata": {},
     "output_type": "display_data"
    }
   ],
   "source": [
    "# Plot monthly sales trends for each category\n",
    "plt.figure(figsize=(12, 6))\n",
    "for category in columns:\n",
    "    plt.plot(index, df[category], label=category)\n",
    "plt.title('Monthly Sales Trends for Each Category')\n",
    "plt.xlabel('Month')\n",
    "plt.ylabel('Sales')\n",
    "plt.legend()\n",
    "plt.grid(True)\n",
    "plt.show()\n"
   ]
  },
  {
   "cell_type": "code",
   "execution_count": 16,
   "metadata": {},
   "outputs": [
    {
     "data": {
      "image/png": "[encoded data removed]",
      "text/plain": [
       "<Figure size 1000x600 with 1 Axes>"
      ]
     },
     "metadata": {},
     "output_type": "display_data"
    }
   ],
   "source": [
    "\n",
    "# Box plots to show the sales distribution for each category\n",
    "plt.figure(figsize=(10, 6))\n",
    "sns.boxplot(data=df[columns])\n",
    "plt.title('Sales Distribution for Each Category')\n",
    "plt.xlabel('Category')\n",
    "plt.ylabel('Sales')\n",
    "plt.show()"
   ]
  },
  {
   "cell_type": "markdown",
   "metadata": {},
   "source": [
    "### Question 2: Array Analysis\n",
    "\n",
    "Given the array: \n",
    "```python\n",
    "array = np.array([[1, -2, 3], [-4, 5, -6]])\n",
    "```\n",
    "\n",
    "#### i. Element-wise Absolute Value\n",
    "- Compute the absolute value of each element in the array.\n",
    "\n",
    "#### ii. Percentiles\n",
    "- Find the **25th**, **50th**, and **75th** percentiles:\n",
    "    - For the flattened array.\n",
    "    - For each column.\n",
    "    - For each row.\n",
    "\n",
    "#### iii. Statistical Measures\n",
    "- Calculate the following:\n",
    "    - **Mean**, **Median**, and **Standard Deviation**:\n",
    "        - For the flattened array.\n",
    "        - For each column.\n",
    "        - For each row.\n"
   ]
  },
  {
   "cell_type": "code",
   "execution_count": 17,
   "metadata": {},
   "outputs": [
    {
     "name": "stdout",
     "output_type": "stream",
     "text": [
      "Element-wise Absolute Values:\n",
      " [[1 2 3]\n",
      " [4 5 6]]\n"
     ]
    }
   ],
   "source": [
    "# Given array\n",
    "array = np.array([[1, -2, 3], [-4, 5, -6]])\n",
    "\n",
    "# i. Element-wise Absolute Value\n",
    "absolute_values = np.abs(array)\n",
    "print(\"Element-wise Absolute Values:\\n\", absolute_values)\n"
   ]
  },
  {
   "cell_type": "code",
   "execution_count": 18,
   "metadata": {},
   "outputs": [
    {
     "name": "stdout",
     "output_type": "stream",
     "text": [
      "\n",
      "Percentiles for Flattened Array: {'25th': np.float64(-3.5), '50th': np.float64(-0.5), '75th': np.float64(2.5)}\n"
     ]
    }
   ],
   "source": [
    "\n",
    "# ii. Percentiles\n",
    "# Flattened array\n",
    "percentiles_flattened = {\n",
    "    \"25th\": np.percentile(array, 25),\n",
    "    \"50th\": np.percentile(array, 50),\n",
    "    \"75th\": np.percentile(array, 75)\n",
    "}\n",
    "print(\"\\nPercentiles for Flattened Array:\", percentiles_flattened)\n",
    "\n"
   ]
  },
  {
   "cell_type": "code",
   "execution_count": 19,
   "metadata": {},
   "outputs": [
    {
     "name": "stdout",
     "output_type": "stream",
     "text": [
      "\n",
      "Percentiles for Each Column:\n",
      " {'25th': array([-2.75, -0.25, -3.75]), '50th': array([-1.5,  1.5, -1.5]), '75th': array([-0.25,  3.25,  0.75])}\n"
     ]
    }
   ],
   "source": [
    "# For each column\n",
    "percentiles_columns = {\n",
    "    \"25th\": np.percentile(array, 25, axis=0),\n",
    "    \"50th\": np.percentile(array, 50, axis=0),\n",
    "    \"75th\": np.percentile(array, 75, axis=0)\n",
    "}\n",
    "print(\"\\nPercentiles for Each Column:\\n\", percentiles_columns)\n",
    "\n"
   ]
  },
  {
   "cell_type": "code",
   "execution_count": 20,
   "metadata": {},
   "outputs": [
    {
     "name": "stdout",
     "output_type": "stream",
     "text": [
      "\n",
      "Percentiles for Each Row:\n",
      " {'25th': array([-0.5, -5. ]), '50th': array([ 1., -4.]), '75th': array([2. , 0.5])}\n"
     ]
    }
   ],
   "source": [
    "# For each row\n",
    "percentiles_rows = {\n",
    "    \"25th\": np.percentile(array, 25, axis=1),\n",
    "    \"50th\": np.percentile(array, 50, axis=1),\n",
    "    \"75th\": np.percentile(array, 75, axis=1)\n",
    "}\n",
    "print(\"\\nPercentiles for Each Row:\\n\", percentiles_rows)\n"
   ]
  },
  {
   "cell_type": "code",
   "execution_count": 21,
   "metadata": {},
   "outputs": [
    {
     "name": "stdout",
     "output_type": "stream",
     "text": [
      "\n",
      "Statistical Measures for Flattened Array: {'Mean': np.float64(-0.5), 'Median': np.float64(-0.5), 'Standard Deviation': np.float64(3.8622100754188224)}\n"
     ]
    }
   ],
   "source": [
    "\n",
    "# iii. Statistical Measures\n",
    "# Flattened array\n",
    "stats_flattened = {\n",
    "    \"Mean\": np.mean(array),\n",
    "    \"Median\": np.median(array),\n",
    "    \"Standard Deviation\": np.std(array)\n",
    "}\n",
    "print(\"\\nStatistical Measures for Flattened Array:\", stats_flattened)\n",
    "\n"
   ]
  },
  {
   "cell_type": "code",
   "execution_count": 22,
   "metadata": {},
   "outputs": [
    {
     "name": "stdout",
     "output_type": "stream",
     "text": [
      "\n",
      "Statistical Measures for Each Column:\n",
      " {'Mean': array([-1.5,  1.5, -1.5]), 'Median': array([-1.5,  1.5, -1.5]), 'Standard Deviation': array([2.5, 3.5, 4.5])}\n"
     ]
    }
   ],
   "source": [
    "# For each column\n",
    "stats_columns = {\n",
    "    \"Mean\": np.mean(array, axis=0),\n",
    "    \"Median\": np.median(array, axis=0),\n",
    "    \"Standard Deviation\": np.std(array, axis=0)\n",
    "}\n",
    "print(\"\\nStatistical Measures for Each Column:\\n\", stats_columns)\n",
    "\n"
   ]
  },
  {
   "cell_type": "code",
   "execution_count": 23,
   "metadata": {},
   "outputs": [
    {
     "name": "stdout",
     "output_type": "stream",
     "text": [
      "\n",
      "Statistical Measures for Each Row:\n",
      " {'Mean': array([ 0.66666667, -1.66666667]), 'Median': array([ 1., -4.]), 'Standard Deviation': array([2.05480467, 4.78423336])}\n"
     ]
    }
   ],
   "source": [
    "# For each row\n",
    "stats_rows = {\n",
    "    \"Mean\": np.mean(array, axis=1),\n",
    "    \"Median\": np.median(array, axis=1),\n",
    "    \"Standard Deviation\": np.std(array, axis=1)\n",
    "}\n",
    "print(\"\\nStatistical Measures for Each Row:\\n\", stats_rows)\n"
   ]
  },
  {
   "cell_type": "markdown",
   "metadata": {},
   "source": [
    "### Question: 3\n",
    "\n",
    "Given the array:  \n",
    "```python\n",
    "a = np.array([-1.8, -1.6, -0.5, 0.5, 1.6, 1.8, 3.0])\n",
    "```\n",
    "\n",
    "#### i. Perform the following operations:\n",
    "1. **Floor Values**: Compute the largest integer less than or equal to each element in the array.\n",
    "2. **Ceiling Values**: Compute the smallest integer greater than or equal to each element in the array.\n",
    "3. **Truncated Values**: Remove the fractional part of each element in the array.\n",
    "4. **Rounded Values**: Round each element to the nearest integer."
   ]
  },
  {
   "cell_type": "code",
   "execution_count": 24,
   "metadata": {},
   "outputs": [
    {
     "data": {
      "text/plain": [
       "array([-1.8, -1.6, -0.5,  0.5,  1.6,  1.8,  3. ])"
      ]
     },
     "execution_count": 24,
     "metadata": {},
     "output_type": "execute_result"
    }
   ],
   "source": [
    "a = np.array([-1.8, -1.6, -0.5, 0.5,1.6, 1.8, 3.0])\n",
    "a"
   ]
  },
  {
   "cell_type": "code",
   "execution_count": 25,
   "metadata": {},
   "outputs": [
    {
     "data": {
      "text/plain": [
       "array([-2., -2., -1.,  0.,  1.,  1.,  3.])"
      ]
     },
     "execution_count": 25,
     "metadata": {},
     "output_type": "execute_result"
    }
   ],
   "source": [
    "#floor\n",
    "np.floor(a)"
   ]
  },
  {
   "cell_type": "code",
   "execution_count": 26,
   "metadata": {},
   "outputs": [
    {
     "data": {
      "text/plain": [
       "array([-1., -1., -0.,  1.,  2.,  2.,  3.])"
      ]
     },
     "execution_count": 26,
     "metadata": {},
     "output_type": "execute_result"
    }
   ],
   "source": [
    "#ceil\n",
    "np.ceil(a)"
   ]
  },
  {
   "cell_type": "code",
   "execution_count": 27,
   "metadata": {},
   "outputs": [
    {
     "data": {
      "text/plain": [
       "array([-1., -1., -0.,  0.,  1.,  1.,  3.])"
      ]
     },
     "execution_count": 27,
     "metadata": {},
     "output_type": "execute_result"
    }
   ],
   "source": [
    "#truncate\n",
    "np.trunc(a)"
   ]
  },
  {
   "cell_type": "code",
   "execution_count": 28,
   "metadata": {},
   "outputs": [
    {
     "data": {
      "text/plain": [
       "array([-2., -2., -0.,  0.,  2.,  2.,  3.])"
      ]
     },
     "execution_count": 28,
     "metadata": {},
     "output_type": "execute_result"
    }
   ],
   "source": [
    "#round\n",
    "np.round(a)"
   ]
  },
  {
   "cell_type": "markdown",
   "metadata": {},
   "source": [
    "### Question : 4 WAP to swap two elements in a list in Python Using a Temporary Variable."
   ]
  },
  {
   "cell_type": "code",
   "execution_count": 29,
   "metadata": {},
   "outputs": [
    {
     "data": {
      "text/plain": [
       "[1, 2, 3, 4, 5, 6, 7, 8, 9, 10]"
      ]
     },
     "execution_count": 29,
     "metadata": {},
     "output_type": "execute_result"
    }
   ],
   "source": [
    "arr=[1,2,3,4,5,6,7,8,9,10]\n",
    "arr"
   ]
  },
  {
   "cell_type": "code",
   "execution_count": 30,
   "metadata": {},
   "outputs": [],
   "source": [
    "temp=arr[0]\n",
    "arr[0]=arr[1]\n",
    "arr[1]=temp"
   ]
  },
  {
   "cell_type": "code",
   "execution_count": 31,
   "metadata": {},
   "outputs": [
    {
     "data": {
      "text/plain": [
       "[2, 1, 3, 4, 5, 6, 7, 8, 9, 10]"
      ]
     },
     "execution_count": 31,
     "metadata": {},
     "output_type": "execute_result"
    }
   ],
   "source": [
    "arr"
   ]
  },
  {
   "cell_type": "markdown",
   "metadata": {},
   "source": [
    "### Question 4 : Write a Python program to swap two elements in a set by converƟng it to a list first. "
   ]
  },
  {
   "cell_type": "code",
   "execution_count": 32,
   "metadata": {},
   "outputs": [
    {
     "data": {
      "text/plain": [
       "[1, 2, 3, 4, 5, 6, 7, 8, 9, 10]"
      ]
     },
     "execution_count": 32,
     "metadata": {},
     "output_type": "execute_result"
    }
   ],
   "source": [
    "arr=[1,2,3,4,5,6,7,8,9,10]\n",
    "arr"
   ]
  },
  {
   "cell_type": "code",
   "execution_count": 33,
   "metadata": {},
   "outputs": [],
   "source": [
    "arr[0],arr[1]=arr[1],arr[0]"
   ]
  },
  {
   "cell_type": "code",
   "execution_count": 34,
   "metadata": {},
   "outputs": [
    {
     "data": {
      "text/plain": [
       "[2, 1, 3, 4, 5, 6, 7, 8, 9, 10]"
      ]
     },
     "execution_count": 34,
     "metadata": {},
     "output_type": "execute_result"
    }
   ],
   "source": [
    "arr"
   ]
  }
 ],
 "metadata": {
  "kernelspec": {
   "display_name": "Python 3",
   "language": "python",
   "name": "python3"
  },
  "language_info": {
   "codemirror_mode": {
    "name": "ipython",
    "version": 3
   },
   "file_extension": ".py",
   "mimetype": "text/x-python",
   "name": "python",
   "nbconvert_exporter": "python",
   "pygments_lexer": "ipython3",
   "version": "3.13.2"
  }
 },
 "nbformat": 4,
 "nbformat_minor": 2
}
